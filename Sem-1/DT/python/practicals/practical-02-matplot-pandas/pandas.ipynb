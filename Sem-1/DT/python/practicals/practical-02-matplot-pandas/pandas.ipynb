{
  "nbformat": 4,
  "nbformat_minor": 0,
  "metadata": {
    "kernelspec": {
      "display_name": "Python 3",
      "language": "python",
      "name": "python3"
    },
    "language_info": {
      "codemirror_mode": {
        "name": "ipython",
        "version": 3
      },
      "file_extension": ".py",
      "mimetype": "text/x-python",
      "name": "python",
      "nbconvert_exporter": "python",
      "pygments_lexer": "ipython3",
      "version": "3.7.7"
    },
    "colab": {
      "provenance": [],
      "collapsed_sections": [],
      "include_colab_link": true
    }
  },
  "cells": [
    {
      "cell_type": "markdown",
      "metadata": {
        "id": "view-in-github",
        "colab_type": "text"
      },
      "source": [
        "<a href=\"https://colab.research.google.com/github/AnimeshKumar923/college-stuff/blob/main/pandas.ipynb\" target=\"_parent\"><img src=\"https://colab.research.google.com/assets/colab-badge.svg\" alt=\"Open In Colab\"/></a>"
      ]
    },
    {
      "cell_type": "markdown",
      "metadata": {
        "id": "JOgJG27IKL4a"
      },
      "source": [
        "## Experiment 1(b): Explore data pre-processing packages and AIML algorithms.\n",
        "\n",
        "## Software Used: Google colaboratory\n",
        "\n",
        "##  Data Manipulation using Pandas (Working with CSV)\n",
        "\n",
        "- Pandas is an open-source Python Library providing high-performance data manipulation and analysis tool using its powerful data structures.\n",
        "- Self Learning Resource\n",
        "    - Pandas in 10 Minutes: <a href=\"https://pandas.pydata.org/pandas-docs/stable/user_guide/10min.html\"> Click Here </a>\n",
        "    - Video1: https://www.youtube.com/watch?v=QUClKFFn1Vk\n",
        "    - Video2: https://www.youtube.com/watch?v=tW1BWtQRZ2M\n",
        "    - Video3: https://www.youtube.com/watch?v=xx4Vkc5RrWY\n",
        "    \n",
        "\n",
        "\n",
        "##### Note: \n",
        "1. To execute the code --> Click on a cell and press cntrl + enter key\n"
      ]
    },
    {
      "cell_type": "markdown",
      "metadata": {
        "id": "dqdG78AUKL44"
      },
      "source": [
        "## <span style='color:Red'> 1. Working with data file (csv)</span>"
      ]
    },
    {
      "cell_type": "markdown",
      "metadata": {
        "id": "3GekShHXKL46"
      },
      "source": [
        "### 1.1 Read csv file"
      ]
    },
    {
      "cell_type": "code",
      "metadata": {
        "id": "AA98XeSsKL5f"
      },
      "source": [
        "##pip install pandas\n",
        "import pandas as pd\n",
        "\n",
        "df = pd.read_csv('/content/data14.csv') # open the file\n",
        "print(type(df))\n",
        "\n",
        "df.head()"
      ],
      "execution_count": null,
      "outputs": []
    },
    {
      "cell_type": "code",
      "metadata": {
        "id": "Y5bujHC0KL5n",
        "colab": {
          "base_uri": "https://localhost:8080/"
        },
        "outputId": "6111b6d6-b74c-451f-e289-1497a50d2759"
      },
      "source": [
        "# Get the datatype of each column\n",
        "df.dtypes"
      ],
      "execution_count": null,
      "outputs": [
        {
          "output_type": "execute_result",
          "data": {
            "text/plain": [
              "id      int64\n",
              "F1      int64\n",
              "F2    float64\n",
              "F3    float64\n",
              "F4    float64\n",
              "F5      int64\n",
              "F6    float64\n",
              "F7    float64\n",
              "dtype: object"
            ]
          },
          "metadata": {
            "tags": []
          },
          "execution_count": 2
        }
      ]
    },
    {
      "cell_type": "code",
      "metadata": {
        "id": "pKHQTqwFKL5p"
      },
      "source": [
        "# To read files\n",
        "\n",
        "# To Read CSV  file  --> pd.read_csv()\n",
        "# To Read Excel file --> pd.read_excel()\n",
        "# To Read Json  file --> pd.read_json() ## JavaScript Object Notation (JSON) is a standard text-based format for representing structured data based on JavaScript object syntax.\n",
        "# To Read HTML  file --> pd.read_html()\n",
        "\n",
        "# Self learning: How to read data from SQL, MongoDB, Oracle, MySQL using python\n"
      ],
      "execution_count": null,
      "outputs": []
    },
    {
      "cell_type": "markdown",
      "metadata": {
        "id": "LvjdxEvXKL5r"
      },
      "source": [
        "### 1.2 Get the dimention of the dataset"
      ]
    },
    {
      "cell_type": "code",
      "metadata": {
        "id": "cRf8FO7iKL50",
        "colab": {
          "base_uri": "https://localhost:8080/"
        },
        "outputId": "38c45edb-fbec-4e29-fccf-7d62e7178ac0"
      },
      "source": [
        "df.head()\n",
        "print(\"df.shape -->\", df.shape) # rows and columns\n",
        "print(\"Rows     -->\", df.shape[0])  ##axis 0---row\n",
        "print(\"Columns  -->\", df.shape[1])   ###column"
      ],
      "execution_count": null,
      "outputs": [
        {
          "output_type": "stream",
          "text": [
            "df.shape --> (12067, 8)\n",
            "Rows     --> 12067\n",
            "Columns  --> 8\n"
          ],
          "name": "stdout"
        }
      ]
    },
    {
      "cell_type": "markdown",
      "metadata": {
        "id": "Htd86bxqKL54"
      },
      "source": [
        "### 1.3 Show top 5 rows of the dataset"
      ]
    },
    {
      "cell_type": "code",
      "metadata": {
        "id": "qZuLmM1HKL57"
      },
      "source": [
        "df.head()\n",
        "\n",
        "# Try Also\n",
        "#df.head(10)  # top 10 lines\n",
        "#df.head(20)"
      ],
      "execution_count": null,
      "outputs": []
    },
    {
      "cell_type": "markdown",
      "metadata": {
        "id": "mA0vD4aAKL58"
      },
      "source": [
        "### 1.4 Show bottom 5 rows of the dataset"
      ]
    },
    {
      "cell_type": "code",
      "metadata": {
        "id": "-wcXCQY4KL59"
      },
      "source": [
        "df.tail()\n",
        "\n",
        "# Try Also\n",
        "#df.tail(10)\n",
        "#df.tail(20)"
      ],
      "execution_count": null,
      "outputs": []
    },
    {
      "cell_type": "code",
      "metadata": {
        "id": "rjWXYEvIKL5-"
      },
      "source": [
        "# Question: Select rowz from 51 to 60\n",
        "# Answer: df.head(61).tail(10)"
      ],
      "execution_count": null,
      "outputs": []
    },
    {
      "cell_type": "markdown",
      "metadata": {
        "id": "Ae_yUha3KL6B"
      },
      "source": [
        "### 1.5 Get all column names of the dataset"
      ]
    },
    {
      "cell_type": "code",
      "metadata": {
        "id": "pkcxTY6lKL6C",
        "colab": {
          "base_uri": "https://localhost:8080/"
        },
        "outputId": "17c9f053-2e81-4f4e-d791-17b95b015bc1"
      },
      "source": [
        "df.columns\n",
        "\n",
        "# Try Also\n",
        "#len(df.columns)"
      ],
      "execution_count": null,
      "outputs": [
        {
          "output_type": "execute_result",
          "data": {
            "text/plain": [
              "Index(['id', 'F1', 'F2', 'F3', 'F4', 'F5', 'F6', 'F7'], dtype='object')"
            ]
          },
          "metadata": {
            "tags": []
          },
          "execution_count": 4
        }
      ]
    },
    {
      "cell_type": "markdown",
      "metadata": {
        "id": "lYl_6sFuKL6E"
      },
      "source": [
        "### 1.6 Get the index"
      ]
    },
    {
      "cell_type": "code",
      "metadata": {
        "colab": {
          "base_uri": "https://localhost:8080/"
        },
        "id": "uiyV4G_dKL6F",
        "outputId": "930d6f31-c24d-4a67-c355-7a154274f6f4"
      },
      "source": [
        "df.index"
      ],
      "execution_count": null,
      "outputs": [
        {
          "output_type": "execute_result",
          "data": {
            "text/plain": [
              "RangeIndex(start=0, stop=12067, step=1)"
            ]
          },
          "metadata": {
            "tags": []
          },
          "execution_count": 5
        }
      ]
    },
    {
      "cell_type": "markdown",
      "metadata": {
        "id": "1fMw-5TNKL6F"
      },
      "source": [
        "### 1.7 Get the statistical summary of the dataset"
      ]
    },
    {
      "cell_type": "code",
      "metadata": {
        "id": "VCWQ2CmGKL6G",
        "colab": {
          "base_uri": "https://localhost:8080/",
          "height": 297
        },
        "outputId": "7b32047c-2415-4c15-a8ed-bf990596cbd7"
      },
      "source": [
        "df.describe()   # column wise data is provided "
      ],
      "execution_count": null,
      "outputs": [
        {
          "output_type": "execute_result",
          "data": {
            "text/html": [
              "<div>\n",
              "<style scoped>\n",
              "    .dataframe tbody tr th:only-of-type {\n",
              "        vertical-align: middle;\n",
              "    }\n",
              "\n",
              "    .dataframe tbody tr th {\n",
              "        vertical-align: top;\n",
              "    }\n",
              "\n",
              "    .dataframe thead th {\n",
              "        text-align: right;\n",
              "    }\n",
              "</style>\n",
              "<table border=\"1\" class=\"dataframe\">\n",
              "  <thead>\n",
              "    <tr style=\"text-align: right;\">\n",
              "      <th></th>\n",
              "      <th>id</th>\n",
              "      <th>F1</th>\n",
              "      <th>F2</th>\n",
              "      <th>F3</th>\n",
              "      <th>F4</th>\n",
              "      <th>F5</th>\n",
              "      <th>F6</th>\n",
              "      <th>F7</th>\n",
              "    </tr>\n",
              "  </thead>\n",
              "  <tbody>\n",
              "    <tr>\n",
              "      <th>count</th>\n",
              "      <td>1.206700e+04</td>\n",
              "      <td>12067.000000</td>\n",
              "      <td>11985.000000</td>\n",
              "      <td>12057.000000</td>\n",
              "      <td>12006.000000</td>\n",
              "      <td>12067.000000</td>\n",
              "      <td>12059.000000</td>\n",
              "      <td>12055.000000</td>\n",
              "    </tr>\n",
              "    <tr>\n",
              "      <th>mean</th>\n",
              "      <td>4.502005e+09</td>\n",
              "      <td>0.499378</td>\n",
              "      <td>22.440801</td>\n",
              "      <td>0.506262</td>\n",
              "      <td>6.657588</td>\n",
              "      <td>0.554239</td>\n",
              "      <td>16507.752384</td>\n",
              "      <td>6.915869</td>\n",
              "    </tr>\n",
              "    <tr>\n",
              "      <th>std</th>\n",
              "      <td>2.691983e+07</td>\n",
              "      <td>0.500020</td>\n",
              "      <td>18.079325</td>\n",
              "      <td>0.499982</td>\n",
              "      <td>4.074763</td>\n",
              "      <td>0.626190</td>\n",
              "      <td>1534.554755</td>\n",
              "      <td>0.303914</td>\n",
              "    </tr>\n",
              "    <tr>\n",
              "      <th>min</th>\n",
              "      <td>4.295358e+09</td>\n",
              "      <td>0.000000</td>\n",
              "      <td>5.000000</td>\n",
              "      <td>0.000000</td>\n",
              "      <td>0.000000</td>\n",
              "      <td>0.000000</td>\n",
              "      <td>10730.000000</td>\n",
              "      <td>4.600000</td>\n",
              "    </tr>\n",
              "    <tr>\n",
              "      <th>25%</th>\n",
              "      <td>4.488640e+09</td>\n",
              "      <td>0.000000</td>\n",
              "      <td>14.000000</td>\n",
              "      <td>0.000000</td>\n",
              "      <td>4.000000</td>\n",
              "      <td>0.000000</td>\n",
              "      <td>15420.500000</td>\n",
              "      <td>6.800000</td>\n",
              "    </tr>\n",
              "    <tr>\n",
              "      <th>50%</th>\n",
              "      <td>4.512745e+09</td>\n",
              "      <td>0.000000</td>\n",
              "      <td>17.000000</td>\n",
              "      <td>1.000000</td>\n",
              "      <td>6.000000</td>\n",
              "      <td>0.000000</td>\n",
              "      <td>16400.000000</td>\n",
              "      <td>7.000000</td>\n",
              "    </tr>\n",
              "    <tr>\n",
              "      <th>75%</th>\n",
              "      <td>4.522339e+09</td>\n",
              "      <td>1.000000</td>\n",
              "      <td>20.000000</td>\n",
              "      <td>1.000000</td>\n",
              "      <td>9.000000</td>\n",
              "      <td>1.000000</td>\n",
              "      <td>17464.500000</td>\n",
              "      <td>7.200000</td>\n",
              "    </tr>\n",
              "    <tr>\n",
              "      <th>max</th>\n",
              "      <td>4.527991e+09</td>\n",
              "      <td>1.000000</td>\n",
              "      <td>250.000000</td>\n",
              "      <td>1.000000</td>\n",
              "      <td>29.000000</td>\n",
              "      <td>2.000000</td>\n",
              "      <td>23701.000000</td>\n",
              "      <td>8.000000</td>\n",
              "    </tr>\n",
              "  </tbody>\n",
              "</table>\n",
              "</div>"
            ],
            "text/plain": [
              "                 id            F1  ...            F6            F7\n",
              "count  1.206700e+04  12067.000000  ...  12059.000000  12055.000000\n",
              "mean   4.502005e+09      0.499378  ...  16507.752384      6.915869\n",
              "std    2.691983e+07      0.500020  ...   1534.554755      0.303914\n",
              "min    4.295358e+09      0.000000  ...  10730.000000      4.600000\n",
              "25%    4.488640e+09      0.000000  ...  15420.500000      6.800000\n",
              "50%    4.512745e+09      0.000000  ...  16400.000000      7.000000\n",
              "75%    4.522339e+09      1.000000  ...  17464.500000      7.200000\n",
              "max    4.527991e+09      1.000000  ...  23701.000000      8.000000\n",
              "\n",
              "[8 rows x 8 columns]"
            ]
          },
          "metadata": {
            "tags": []
          },
          "execution_count": 6
        }
      ]
    },
    {
      "cell_type": "markdown",
      "metadata": {
        "id": "TP57vQzUKL6H"
      },
      "source": [
        "### 1.8 Get the information related to the dataset"
      ]
    },
    {
      "cell_type": "code",
      "metadata": {
        "id": "Y4LXarMSKL6I",
        "colab": {
          "base_uri": "https://localhost:8080/"
        },
        "outputId": "7f2d0535-9a86-4de0-8b80-09a6d8587ac3"
      },
      "source": [
        "df.info()"
      ],
      "execution_count": null,
      "outputs": [
        {
          "output_type": "stream",
          "text": [
            "<class 'pandas.core.frame.DataFrame'>\n",
            "RangeIndex: 12067 entries, 0 to 12066\n",
            "Data columns (total 8 columns):\n",
            " #   Column  Non-Null Count  Dtype  \n",
            "---  ------  --------------  -----  \n",
            " 0   id      12067 non-null  int64  \n",
            " 1   F1      12067 non-null  int64  \n",
            " 2   F2      11985 non-null  float64\n",
            " 3   F3      12057 non-null  float64\n",
            " 4   F4      12006 non-null  float64\n",
            " 5   F5      12067 non-null  int64  \n",
            " 6   F6      12059 non-null  float64\n",
            " 7   F7      12055 non-null  float64\n",
            "dtypes: float64(5), int64(3)\n",
            "memory usage: 754.3 KB\n"
          ],
          "name": "stdout"
        }
      ]
    },
    {
      "cell_type": "markdown",
      "metadata": {
        "id": "vykSAjQZKL6J"
      },
      "source": [
        "### 1.9 Transposing the dataset"
      ]
    },
    {
      "cell_type": "code",
      "metadata": {
        "id": "MQ8qWOhPKL6J"
      },
      "source": [
        "df.T   # shuffle rows and columns"
      ],
      "execution_count": null,
      "outputs": []
    },
    {
      "cell_type": "markdown",
      "metadata": {
        "id": "60g7wFSSKL6n"
      },
      "source": [
        "### 1.10 Accessing data from dataset - Part 1 (using loc - Column Names)"
      ]
    },
    {
      "cell_type": "code",
      "metadata": {
        "id": "IbZDrPPAKL6o"
      },
      "source": [
        "# Syntax --> loc[ ROW, COL_Names_in_List ]    # selective accessing\n",
        "\n",
        "#df.loc[:, ['F1','F3','F6']]\n",
        "\n",
        "# Also Try\n",
        "df.loc[:10 , ['F1','F3','F6']]\n",
        "#df.loc[10:100 , ['F1','F3','F6','F7']]"
      ],
      "execution_count": null,
      "outputs": []
    },
    {
      "cell_type": "markdown",
      "metadata": {
        "id": "Wjqc8ay8KL6r"
      },
      "source": [
        "### 1.11 Accessing data from dataset - Part 2 (using iloc - Column position)"
      ]
    },
    {
      "cell_type": "code",
      "metadata": {
        "scrolled": true,
        "id": "SbxC9WegKL6r"
      },
      "source": [
        "# Syntax --> iloc[ ROW, COL_Position]\n",
        "\n",
        "#df.iloc[0:10, 5:]\n",
        "\n",
        "# Also Try\n",
        "#df.iloc[10:100, :-2]\n",
        "df.iloc[20:30, 1:5]"
      ],
      "execution_count": null,
      "outputs": []
    },
    {
      "cell_type": "markdown",
      "metadata": {
        "id": "frmWejvLy6ME"
      },
      "source": [
        "The unique() function is used to get unique values of Series object.\n",
        "\n",
        "Uniques are returned in order of appearance. Hash table-based unique, therefore does NOT sort. "
      ]
    },
    {
      "cell_type": "markdown",
      "metadata": {
        "id": "J7iQIUHmKL6x"
      },
      "source": [
        "### 1.12 To get unique values in a Column (factors)"
      ]
    },
    {
      "cell_type": "code",
      "metadata": {
        "id": "7jX5mbkDKL6x",
        "colab": {
          "base_uri": "https://localhost:8080/",
          "height": 561
        },
        "outputId": "10a12284-324d-4b6b-b412-65d9e5873faa"
      },
      "source": [
        "df['F1'].unique()      # not having repetition \n",
        "\n",
        "len(df['F1'].unique())\n",
        "\n",
        "#df['F4'].unique()\n",
        "\n",
        "#len(df['F4'].unique())   # total unique values in the data set"
      ],
      "execution_count": null,
      "outputs": [
        {
          "output_type": "error",
          "ename": "KeyError",
          "evalue": "ignored",
          "traceback": [
            "\u001b[0;31m---------------------------------------------------------------------------\u001b[0m",
            "\u001b[0;31mKeyError\u001b[0m                                  Traceback (most recent call last)",
            "\u001b[0;32m/usr/local/lib/python3.7/dist-packages/pandas/core/indexes/base.py\u001b[0m in \u001b[0;36mget_loc\u001b[0;34m(self, key, method, tolerance)\u001b[0m\n\u001b[1;32m   2897\u001b[0m             \u001b[0;32mtry\u001b[0m\u001b[0;34m:\u001b[0m\u001b[0;34m\u001b[0m\u001b[0;34m\u001b[0m\u001b[0m\n\u001b[0;32m-> 2898\u001b[0;31m                 \u001b[0;32mreturn\u001b[0m \u001b[0mself\u001b[0m\u001b[0;34m.\u001b[0m\u001b[0m_engine\u001b[0m\u001b[0;34m.\u001b[0m\u001b[0mget_loc\u001b[0m\u001b[0;34m(\u001b[0m\u001b[0mcasted_key\u001b[0m\u001b[0;34m)\u001b[0m\u001b[0;34m\u001b[0m\u001b[0;34m\u001b[0m\u001b[0m\n\u001b[0m\u001b[1;32m   2899\u001b[0m             \u001b[0;32mexcept\u001b[0m \u001b[0mKeyError\u001b[0m \u001b[0;32mas\u001b[0m \u001b[0merr\u001b[0m\u001b[0;34m:\u001b[0m\u001b[0;34m\u001b[0m\u001b[0;34m\u001b[0m\u001b[0m\n",
            "\u001b[0;32mpandas/_libs/index.pyx\u001b[0m in \u001b[0;36mpandas._libs.index.IndexEngine.get_loc\u001b[0;34m()\u001b[0m\n",
            "\u001b[0;32mpandas/_libs/index.pyx\u001b[0m in \u001b[0;36mpandas._libs.index.IndexEngine.get_loc\u001b[0;34m()\u001b[0m\n",
            "\u001b[0;32mpandas/_libs/hashtable_class_helper.pxi\u001b[0m in \u001b[0;36mpandas._libs.hashtable.PyObjectHashTable.get_item\u001b[0;34m()\u001b[0m\n",
            "\u001b[0;32mpandas/_libs/hashtable_class_helper.pxi\u001b[0m in \u001b[0;36mpandas._libs.hashtable.PyObjectHashTable.get_item\u001b[0;34m()\u001b[0m\n",
            "\u001b[0;31mKeyError\u001b[0m: 'F1'",
            "\nThe above exception was the direct cause of the following exception:\n",
            "\u001b[0;31mKeyError\u001b[0m                                  Traceback (most recent call last)",
            "\u001b[0;32m<ipython-input-57-cdcda0ed40ff>\u001b[0m in \u001b[0;36m<module>\u001b[0;34m()\u001b[0m\n\u001b[0;32m----> 1\u001b[0;31m \u001b[0mprint\u001b[0m\u001b[0;34m(\u001b[0m\u001b[0mdf\u001b[0m\u001b[0;34m[\u001b[0m\u001b[0;34m'F1'\u001b[0m\u001b[0;34m]\u001b[0m\u001b[0;34m.\u001b[0m\u001b[0munique\u001b[0m\u001b[0;34m(\u001b[0m\u001b[0;34m)\u001b[0m\u001b[0;34m)\u001b[0m\u001b[0;34m\u001b[0m\u001b[0;34m\u001b[0m\u001b[0m\n\u001b[0m\u001b[1;32m      2\u001b[0m \u001b[0;34m\u001b[0m\u001b[0m\n\u001b[1;32m      3\u001b[0m \u001b[0mlen\u001b[0m\u001b[0;34m(\u001b[0m\u001b[0mdf\u001b[0m\u001b[0;34m[\u001b[0m\u001b[0;34m'F1'\u001b[0m\u001b[0;34m]\u001b[0m\u001b[0;34m.\u001b[0m\u001b[0munique\u001b[0m\u001b[0;34m(\u001b[0m\u001b[0;34m)\u001b[0m\u001b[0;34m)\u001b[0m\u001b[0;34m\u001b[0m\u001b[0;34m\u001b[0m\u001b[0m\n\u001b[1;32m      4\u001b[0m \u001b[0;34m\u001b[0m\u001b[0m\n\u001b[1;32m      5\u001b[0m \u001b[0;31m#df['F4'].unique()\u001b[0m\u001b[0;34m\u001b[0m\u001b[0;34m\u001b[0m\u001b[0;34m\u001b[0m\u001b[0m\n",
            "\u001b[0;32m/usr/local/lib/python3.7/dist-packages/pandas/core/frame.py\u001b[0m in \u001b[0;36m__getitem__\u001b[0;34m(self, key)\u001b[0m\n\u001b[1;32m   2904\u001b[0m             \u001b[0;32mif\u001b[0m \u001b[0mself\u001b[0m\u001b[0;34m.\u001b[0m\u001b[0mcolumns\u001b[0m\u001b[0;34m.\u001b[0m\u001b[0mnlevels\u001b[0m \u001b[0;34m>\u001b[0m \u001b[0;36m1\u001b[0m\u001b[0;34m:\u001b[0m\u001b[0;34m\u001b[0m\u001b[0;34m\u001b[0m\u001b[0m\n\u001b[1;32m   2905\u001b[0m                 \u001b[0;32mreturn\u001b[0m \u001b[0mself\u001b[0m\u001b[0;34m.\u001b[0m\u001b[0m_getitem_multilevel\u001b[0m\u001b[0;34m(\u001b[0m\u001b[0mkey\u001b[0m\u001b[0;34m)\u001b[0m\u001b[0;34m\u001b[0m\u001b[0;34m\u001b[0m\u001b[0m\n\u001b[0;32m-> 2906\u001b[0;31m             \u001b[0mindexer\u001b[0m \u001b[0;34m=\u001b[0m \u001b[0mself\u001b[0m\u001b[0;34m.\u001b[0m\u001b[0mcolumns\u001b[0m\u001b[0;34m.\u001b[0m\u001b[0mget_loc\u001b[0m\u001b[0;34m(\u001b[0m\u001b[0mkey\u001b[0m\u001b[0;34m)\u001b[0m\u001b[0;34m\u001b[0m\u001b[0;34m\u001b[0m\u001b[0m\n\u001b[0m\u001b[1;32m   2907\u001b[0m             \u001b[0;32mif\u001b[0m \u001b[0mis_integer\u001b[0m\u001b[0;34m(\u001b[0m\u001b[0mindexer\u001b[0m\u001b[0;34m)\u001b[0m\u001b[0;34m:\u001b[0m\u001b[0;34m\u001b[0m\u001b[0;34m\u001b[0m\u001b[0m\n\u001b[1;32m   2908\u001b[0m                 \u001b[0mindexer\u001b[0m \u001b[0;34m=\u001b[0m \u001b[0;34m[\u001b[0m\u001b[0mindexer\u001b[0m\u001b[0;34m]\u001b[0m\u001b[0;34m\u001b[0m\u001b[0;34m\u001b[0m\u001b[0m\n",
            "\u001b[0;32m/usr/local/lib/python3.7/dist-packages/pandas/core/indexes/base.py\u001b[0m in \u001b[0;36mget_loc\u001b[0;34m(self, key, method, tolerance)\u001b[0m\n\u001b[1;32m   2898\u001b[0m                 \u001b[0;32mreturn\u001b[0m \u001b[0mself\u001b[0m\u001b[0;34m.\u001b[0m\u001b[0m_engine\u001b[0m\u001b[0;34m.\u001b[0m\u001b[0mget_loc\u001b[0m\u001b[0;34m(\u001b[0m\u001b[0mcasted_key\u001b[0m\u001b[0;34m)\u001b[0m\u001b[0;34m\u001b[0m\u001b[0;34m\u001b[0m\u001b[0m\n\u001b[1;32m   2899\u001b[0m             \u001b[0;32mexcept\u001b[0m \u001b[0mKeyError\u001b[0m \u001b[0;32mas\u001b[0m \u001b[0merr\u001b[0m\u001b[0;34m:\u001b[0m\u001b[0;34m\u001b[0m\u001b[0;34m\u001b[0m\u001b[0m\n\u001b[0;32m-> 2900\u001b[0;31m                 \u001b[0;32mraise\u001b[0m \u001b[0mKeyError\u001b[0m\u001b[0;34m(\u001b[0m\u001b[0mkey\u001b[0m\u001b[0;34m)\u001b[0m \u001b[0;32mfrom\u001b[0m \u001b[0merr\u001b[0m\u001b[0;34m\u001b[0m\u001b[0;34m\u001b[0m\u001b[0m\n\u001b[0m\u001b[1;32m   2901\u001b[0m \u001b[0;34m\u001b[0m\u001b[0m\n\u001b[1;32m   2902\u001b[0m         \u001b[0;32mif\u001b[0m \u001b[0mtolerance\u001b[0m \u001b[0;32mis\u001b[0m \u001b[0;32mnot\u001b[0m \u001b[0;32mNone\u001b[0m\u001b[0;34m:\u001b[0m\u001b[0;34m\u001b[0m\u001b[0;34m\u001b[0m\u001b[0m\n",
            "\u001b[0;31mKeyError\u001b[0m: 'F1'"
          ]
        }
      ]
    },
    {
      "cell_type": "markdown",
      "metadata": {
        "id": "sp8CILK0KL6y"
      },
      "source": [
        "### 1.13 To get unique count  in a Column"
      ]
    },
    {
      "cell_type": "code",
      "metadata": {
        "id": "YkRYnRxjKL6z"
      },
      "source": [
        "#df['F1'].value_counts()   # times the unique value has occurred\n",
        "df['F4'].value_counts()"
      ],
      "execution_count": null,
      "outputs": []
    },
    {
      "cell_type": "markdown",
      "metadata": {
        "id": "gPhrHgHWKL6z"
      },
      "source": [
        "### 1.14 Selecting data using condition - part 1"
      ]
    },
    {
      "cell_type": "code",
      "metadata": {
        "id": "CSB80v0gKL69"
      },
      "source": [
        "df[df['F4']>10]     # rows value greater than 10 will appear\n",
        "\n",
        "df[df['F4']>10].shape\n",
        "\n",
        "#df[(df['F4']>20) & (df['F1'] == 1)]\n",
        "\n",
        "#df[(df['F4']>20) | (df['F1'] == 1)].shape\n"
      ],
      "execution_count": null,
      "outputs": []
    },
    {
      "cell_type": "markdown",
      "metadata": {
        "id": "qA3BgWbgKL7S"
      },
      "source": [
        "### 1.19 Get the correlation of the all the columns present in the dataset"
      ]
    },
    {
      "cell_type": "code",
      "metadata": {
        "id": "_0yLuNK_KL7V"
      },
      "source": [
        "df.corr()      # correlation between the columns \n",
        "\n",
        "# Note\n",
        "# 1. Shows the relationship between two objects (or data columns)\n",
        "# 2. Correlation value lies between -1 and +1\n",
        "# 3. If correlation of two columns (Features) is greater than 0.8 (or 0.85 or 0.9), \n",
        "#    then we can drop one of the column."
      ],
      "execution_count": null,
      "outputs": []
    },
    {
      "cell_type": "markdown",
      "metadata": {
        "id": "i3g5O56ftg6E"
      },
      "source": []
    },
    {
      "cell_type": "markdown",
      "metadata": {
        "id": "_Lfoy4xwKL7j"
      },
      "source": [
        "### 1.26 IsNull: This returns true or false depending on the status of the cell"
      ]
    },
    {
      "cell_type": "code",
      "metadata": {
        "id": "2wayCESaKL7l"
      },
      "source": [
        "df.isnull()\n",
        "\n",
        "# Shows True where NULL are present in the dataset else show False "
      ],
      "execution_count": null,
      "outputs": []
    },
    {
      "cell_type": "markdown",
      "metadata": {
        "id": "HgRYJchtKL7m"
      },
      "source": [
        "### 1.27 Aggregate of all the values which are null"
      ]
    },
    {
      "cell_type": "code",
      "metadata": {
        "id": "NJOe0cZNKL7n"
      },
      "source": [
        "df.isnull().sum()    # total null values in particular column"
      ],
      "execution_count": null,
      "outputs": []
    },
    {
      "cell_type": "markdown",
      "metadata": {
        "id": "9gvbena6KL7o"
      },
      "source": [
        "### 1.28 Drop NA values (delete rows)"
      ]
    },
    {
      "cell_type": "code",
      "metadata": {
        "id": "0ZRHEA41KL7o"
      },
      "source": [
        "# Creating new sample dataset  (Dataframe)\n",
        "\n",
        "import pandas as pd\n",
        "\n",
        "\n",
        "df = pd.DataFrame({\"Name\":[\"Iron-Man\",\"Wonder-Woman\",\"Avengers\",\"Ramayan\"],  # name ,house and start are columns\n",
        "                     \"House\":[\"Marvel\",\"DC Comics\",\"Marvel\",\"Ramanand Sagar\"],\n",
        "                     \"Start\":[pd.NaT, pd.Timestamp(\"2017-05-15\"), \n",
        "                              pd.NaT, pd.Timestamp(\"1987-01-25\")]})\n",
        "\n",
        "df"
      ],
      "execution_count": null,
      "outputs": []
    },
    {
      "cell_type": "code",
      "metadata": {
        "id": "EOj0tLV7KL8S",
        "colab": {
          "base_uri": "https://localhost:8080/",
          "height": 173
        },
        "outputId": "dc73d34e-16ac-4814-9fa1-65ae366ba32a"
      },
      "source": [
        "df.isnull()"
      ],
      "execution_count": null,
      "outputs": [
        {
          "output_type": "execute_result",
          "data": {
            "text/html": [
              "<div>\n",
              "<style scoped>\n",
              "    .dataframe tbody tr th:only-of-type {\n",
              "        vertical-align: middle;\n",
              "    }\n",
              "\n",
              "    .dataframe tbody tr th {\n",
              "        vertical-align: top;\n",
              "    }\n",
              "\n",
              "    .dataframe thead th {\n",
              "        text-align: right;\n",
              "    }\n",
              "</style>\n",
              "<table border=\"1\" class=\"dataframe\">\n",
              "  <thead>\n",
              "    <tr style=\"text-align: right;\">\n",
              "      <th></th>\n",
              "      <th>Name</th>\n",
              "      <th>House</th>\n",
              "      <th>Start</th>\n",
              "    </tr>\n",
              "  </thead>\n",
              "  <tbody>\n",
              "    <tr>\n",
              "      <th>0</th>\n",
              "      <td>False</td>\n",
              "      <td>False</td>\n",
              "      <td>True</td>\n",
              "    </tr>\n",
              "    <tr>\n",
              "      <th>1</th>\n",
              "      <td>False</td>\n",
              "      <td>False</td>\n",
              "      <td>False</td>\n",
              "    </tr>\n",
              "    <tr>\n",
              "      <th>2</th>\n",
              "      <td>False</td>\n",
              "      <td>False</td>\n",
              "      <td>True</td>\n",
              "    </tr>\n",
              "    <tr>\n",
              "      <th>3</th>\n",
              "      <td>False</td>\n",
              "      <td>False</td>\n",
              "      <td>False</td>\n",
              "    </tr>\n",
              "  </tbody>\n",
              "</table>\n",
              "</div>"
            ],
            "text/plain": [
              "    Name  House  Start\n",
              "0  False  False   True\n",
              "1  False  False  False\n",
              "2  False  False   True\n",
              "3  False  False  False"
            ]
          },
          "metadata": {
            "tags": []
          },
          "execution_count": 29
        }
      ]
    },
    {
      "cell_type": "code",
      "metadata": {
        "id": "hzkVBSrAKL8S",
        "colab": {
          "base_uri": "https://localhost:8080/"
        },
        "outputId": "1cb8c537-0db4-4af0-836d-1577f5c9203a"
      },
      "source": [
        "df.isnull().sum()"
      ],
      "execution_count": null,
      "outputs": [
        {
          "output_type": "execute_result",
          "data": {
            "text/plain": [
              "Name     0\n",
              "House    0\n",
              "Start    2\n",
              "dtype: int64"
            ]
          },
          "metadata": {
            "tags": []
          },
          "execution_count": 30
        }
      ]
    },
    {
      "cell_type": "code",
      "metadata": {
        "colab": {
          "base_uri": "https://localhost:8080/",
          "height": 173
        },
        "id": "KDt33gZLKL8T",
        "outputId": "78edf989-1c17-4e08-ee17-75790f1852c0"
      },
      "source": [
        "df"
      ],
      "execution_count": null,
      "outputs": [
        {
          "output_type": "execute_result",
          "data": {
            "text/html": [
              "<div>\n",
              "<style scoped>\n",
              "    .dataframe tbody tr th:only-of-type {\n",
              "        vertical-align: middle;\n",
              "    }\n",
              "\n",
              "    .dataframe tbody tr th {\n",
              "        vertical-align: top;\n",
              "    }\n",
              "\n",
              "    .dataframe thead th {\n",
              "        text-align: right;\n",
              "    }\n",
              "</style>\n",
              "<table border=\"1\" class=\"dataframe\">\n",
              "  <thead>\n",
              "    <tr style=\"text-align: right;\">\n",
              "      <th></th>\n",
              "      <th>Name</th>\n",
              "      <th>House</th>\n",
              "      <th>Start</th>\n",
              "    </tr>\n",
              "  </thead>\n",
              "  <tbody>\n",
              "    <tr>\n",
              "      <th>0</th>\n",
              "      <td>Iron-Man</td>\n",
              "      <td>Marvel</td>\n",
              "      <td>NaT</td>\n",
              "    </tr>\n",
              "    <tr>\n",
              "      <th>1</th>\n",
              "      <td>Wonder-Woman</td>\n",
              "      <td>DC Comics</td>\n",
              "      <td>2017-05-15</td>\n",
              "    </tr>\n",
              "    <tr>\n",
              "      <th>2</th>\n",
              "      <td>Avengers</td>\n",
              "      <td>Marvel</td>\n",
              "      <td>NaT</td>\n",
              "    </tr>\n",
              "    <tr>\n",
              "      <th>3</th>\n",
              "      <td>Ramayan</td>\n",
              "      <td>Ramanand Sagar</td>\n",
              "      <td>1987-01-25</td>\n",
              "    </tr>\n",
              "  </tbody>\n",
              "</table>\n",
              "</div>"
            ],
            "text/plain": [
              "           Name           House      Start\n",
              "0      Iron-Man          Marvel        NaT\n",
              "1  Wonder-Woman       DC Comics 2017-05-15\n",
              "2      Avengers          Marvel        NaT\n",
              "3       Ramayan  Ramanand Sagar 1987-01-25"
            ]
          },
          "metadata": {
            "tags": []
          },
          "execution_count": 22
        }
      ]
    },
    {
      "cell_type": "code",
      "metadata": {
        "id": "5aTAsf64KL8U",
        "colab": {
          "base_uri": "https://localhost:8080/",
          "height": 111
        },
        "outputId": "5b6034f0-24a0-40e8-8a97-ab9b818e0e7b"
      },
      "source": [
        "df.dropna()     # Drop those rows having any \"NA\"\n",
        "                    # But, No change in the original Data"
      ],
      "execution_count": null,
      "outputs": [
        {
          "output_type": "execute_result",
          "data": {
            "text/html": [
              "<div>\n",
              "<style scoped>\n",
              "    .dataframe tbody tr th:only-of-type {\n",
              "        vertical-align: middle;\n",
              "    }\n",
              "\n",
              "    .dataframe tbody tr th {\n",
              "        vertical-align: top;\n",
              "    }\n",
              "\n",
              "    .dataframe thead th {\n",
              "        text-align: right;\n",
              "    }\n",
              "</style>\n",
              "<table border=\"1\" class=\"dataframe\">\n",
              "  <thead>\n",
              "    <tr style=\"text-align: right;\">\n",
              "      <th></th>\n",
              "      <th>Name</th>\n",
              "      <th>House</th>\n",
              "      <th>Start</th>\n",
              "    </tr>\n",
              "  </thead>\n",
              "  <tbody>\n",
              "    <tr>\n",
              "      <th>1</th>\n",
              "      <td>Wonder-Woman</td>\n",
              "      <td>DC Comics</td>\n",
              "      <td>2017-05-15</td>\n",
              "    </tr>\n",
              "    <tr>\n",
              "      <th>3</th>\n",
              "      <td>Ramayan</td>\n",
              "      <td>Ramanand Sagar</td>\n",
              "      <td>1987-01-25</td>\n",
              "    </tr>\n",
              "  </tbody>\n",
              "</table>\n",
              "</div>"
            ],
            "text/plain": [
              "           Name           House      Start\n",
              "1  Wonder-Woman       DC Comics 2017-05-15\n",
              "3       Ramayan  Ramanand Sagar 1987-01-25"
            ]
          },
          "metadata": {
            "tags": []
          },
          "execution_count": 31
        }
      ]
    },
    {
      "cell_type": "markdown",
      "metadata": {
        "id": "kH-V9OzfKL8X"
      },
      "source": [
        "### 1.29 Drop the columns where there are null values"
      ]
    },
    {
      "cell_type": "code",
      "metadata": {
        "id": "bILnjQyIKL8d"
      },
      "source": [
        "df"
      ],
      "execution_count": null,
      "outputs": []
    },
    {
      "cell_type": "code",
      "metadata": {
        "id": "gteQLqUoKL8e"
      },
      "source": [
        "df.dropna(axis = 'columns')   # by default deletes the rows"
      ],
      "execution_count": null,
      "outputs": []
    },
    {
      "cell_type": "markdown",
      "metadata": {
        "id": "9GUetI_HKL8h"
      },
      "source": [
        "### 1.31 Drop the null values where they are present"
      ]
    },
    {
      "cell_type": "code",
      "metadata": {
        "id": "ilKCDd1vKL8i"
      },
      "source": [
        "df"
      ],
      "execution_count": null,
      "outputs": []
    },
    {
      "cell_type": "code",
      "metadata": {
        "colab": {
          "base_uri": "https://localhost:8080/",
          "height": 111
        },
        "id": "pe0ztub4KL8j",
        "outputId": "6ee7c847-f493-4b8f-e756-8e383733773c"
      },
      "source": [
        "df.dropna(how = 'any') # Similar to df.dropna()"
      ],
      "execution_count": null,
      "outputs": [
        {
          "output_type": "execute_result",
          "data": {
            "text/html": [
              "<div>\n",
              "<style scoped>\n",
              "    .dataframe tbody tr th:only-of-type {\n",
              "        vertical-align: middle;\n",
              "    }\n",
              "\n",
              "    .dataframe tbody tr th {\n",
              "        vertical-align: top;\n",
              "    }\n",
              "\n",
              "    .dataframe thead th {\n",
              "        text-align: right;\n",
              "    }\n",
              "</style>\n",
              "<table border=\"1\" class=\"dataframe\">\n",
              "  <thead>\n",
              "    <tr style=\"text-align: right;\">\n",
              "      <th></th>\n",
              "      <th>Name</th>\n",
              "      <th>House</th>\n",
              "      <th>Start</th>\n",
              "    </tr>\n",
              "  </thead>\n",
              "  <tbody>\n",
              "    <tr>\n",
              "      <th>1</th>\n",
              "      <td>Wonder-Woman</td>\n",
              "      <td>DC Comics</td>\n",
              "      <td>2017-05-15</td>\n",
              "    </tr>\n",
              "    <tr>\n",
              "      <th>3</th>\n",
              "      <td>Ramayan</td>\n",
              "      <td>Ramanand Sagar</td>\n",
              "      <td>1987-01-25</td>\n",
              "    </tr>\n",
              "  </tbody>\n",
              "</table>\n",
              "</div>"
            ],
            "text/plain": [
              "           Name           House      Start\n",
              "1  Wonder-Woman       DC Comics 2017-05-15\n",
              "3       Ramayan  Ramanand Sagar 1987-01-25"
            ]
          },
          "metadata": {
            "tags": []
          },
          "execution_count": 30
        }
      ]
    },
    {
      "cell_type": "markdown",
      "metadata": {
        "id": "ijlmppLUKL8t"
      },
      "source": [
        "### 1.32 Fill the null values with '0'"
      ]
    },
    {
      "cell_type": "code",
      "metadata": {
        "colab": {
          "base_uri": "https://localhost:8080/",
          "height": 173
        },
        "id": "wCDEu3UGKL8w",
        "outputId": "f198318c-25c1-45be-aea7-3742ed488df6"
      },
      "source": [
        "import pandas as pd\n",
        "\n",
        "\n",
        "df = pd.DataFrame({\"Name\":[\"Iron-Man\",\"Wonder-Woman\",\"Avengers\",\"Ramayan\"],\n",
        "                     \"House\":[\"Marvel\",\"DC Comics\",\"Marvel\",\"Ramanand Sagar\"],\n",
        "                     \"Start\":[pd.NaT, pd.Timestamp(\"2017-05-15\"), \n",
        "                              pd.NaT, pd.Timestamp(\"1987-01-25\")]})\n",
        "\n",
        "df"
      ],
      "execution_count": null,
      "outputs": [
        {
          "output_type": "execute_result",
          "data": {
            "text/html": [
              "<div>\n",
              "<style scoped>\n",
              "    .dataframe tbody tr th:only-of-type {\n",
              "        vertical-align: middle;\n",
              "    }\n",
              "\n",
              "    .dataframe tbody tr th {\n",
              "        vertical-align: top;\n",
              "    }\n",
              "\n",
              "    .dataframe thead th {\n",
              "        text-align: right;\n",
              "    }\n",
              "</style>\n",
              "<table border=\"1\" class=\"dataframe\">\n",
              "  <thead>\n",
              "    <tr style=\"text-align: right;\">\n",
              "      <th></th>\n",
              "      <th>Name</th>\n",
              "      <th>House</th>\n",
              "      <th>Start</th>\n",
              "    </tr>\n",
              "  </thead>\n",
              "  <tbody>\n",
              "    <tr>\n",
              "      <th>0</th>\n",
              "      <td>Iron-Man</td>\n",
              "      <td>Marvel</td>\n",
              "      <td>NaT</td>\n",
              "    </tr>\n",
              "    <tr>\n",
              "      <th>1</th>\n",
              "      <td>Wonder-Woman</td>\n",
              "      <td>DC Comics</td>\n",
              "      <td>2017-05-15</td>\n",
              "    </tr>\n",
              "    <tr>\n",
              "      <th>2</th>\n",
              "      <td>Avengers</td>\n",
              "      <td>Marvel</td>\n",
              "      <td>NaT</td>\n",
              "    </tr>\n",
              "    <tr>\n",
              "      <th>3</th>\n",
              "      <td>Ramayan</td>\n",
              "      <td>Ramanand Sagar</td>\n",
              "      <td>1987-01-25</td>\n",
              "    </tr>\n",
              "  </tbody>\n",
              "</table>\n",
              "</div>"
            ],
            "text/plain": [
              "           Name           House      Start\n",
              "0      Iron-Man          Marvel        NaT\n",
              "1  Wonder-Woman       DC Comics 2017-05-15\n",
              "2      Avengers          Marvel        NaT\n",
              "3       Ramayan  Ramanand Sagar 1987-01-25"
            ]
          },
          "metadata": {
            "tags": []
          },
          "execution_count": 34
        }
      ]
    },
    {
      "cell_type": "code",
      "metadata": {
        "id": "-rfnKNn5KL8x",
        "colab": {
          "base_uri": "https://localhost:8080/",
          "height": 217
        },
        "outputId": "c69571fe-8910-452f-8b17-278debdfe26a"
      },
      "source": [
        "df.fillna(0)    # filling instead of deleting\n",
        "          # Fill ALL \"NA\" value to \"0\"\n",
        "\n",
        "df"
      ],
      "execution_count": null,
      "outputs": [
        {
          "output_type": "error",
          "ename": "NameError",
          "evalue": "ignored",
          "traceback": [
            "\u001b[0;31m---------------------------------------------------------------------------\u001b[0m",
            "\u001b[0;31mNameError\u001b[0m                                 Traceback (most recent call last)",
            "\u001b[0;32m<ipython-input-1-f639633b2128>\u001b[0m in \u001b[0;36m<module>\u001b[0;34m\u001b[0m\n\u001b[0;32m----> 1\u001b[0;31m \u001b[0mdf\u001b[0m\u001b[0;34m.\u001b[0m\u001b[0mfillna\u001b[0m\u001b[0;34m(\u001b[0m\u001b[0;36m0\u001b[0m\u001b[0;34m)\u001b[0m\u001b[0;34m\u001b[0m\u001b[0;34m\u001b[0m\u001b[0m\n\u001b[0m\u001b[1;32m      2\u001b[0m           \u001b[0;31m# Fill ALL \"NA\" value to \"0\"\u001b[0m\u001b[0;34m\u001b[0m\u001b[0;34m\u001b[0m\u001b[0;34m\u001b[0m\u001b[0m\n\u001b[1;32m      3\u001b[0m \u001b[0;34m\u001b[0m\u001b[0m\n\u001b[1;32m      4\u001b[0m \u001b[0mdf\u001b[0m\u001b[0;34m\u001b[0m\u001b[0;34m\u001b[0m\u001b[0m\n",
            "\u001b[0;31mNameError\u001b[0m: name 'df' is not defined"
          ]
        }
      ]
    },
    {
      "cell_type": "markdown",
      "metadata": {
        "id": "ZXCHkn94KL83"
      },
      "source": [
        "### 1.33 Replace Values"
      ]
    },
    {
      "cell_type": "code",
      "metadata": {
        "colab": {
          "base_uri": "https://localhost:8080/",
          "height": 173
        },
        "id": "wlA01ZOhKL89",
        "outputId": "3a46d489-861b-47bd-a158-0c58b4930f52"
      },
      "source": [
        "import pandas as pd\n",
        "\n",
        "\n",
        "df = pd.DataFrame({\"Name\":[\"Iron-Man\",\"Wonder-Woman\",\"Avengers\",\"Ramayan\"],\n",
        "                     \"House\":[\"Marvel\",\"DC Comics\",\"Marvel\",\"Ramanand Sagar\"],\n",
        "                     \"Start\":[pd.NaT, pd.Timestamp(\"2017-05-15\"), \n",
        "                              pd.NaT, pd.Timestamp(\"1987-01-25\")]})\n",
        "\n"
      ],
      "execution_count": null,
      "outputs": [
        {
          "output_type": "execute_result",
          "data": {
            "text/html": [
              "<div>\n",
              "<style scoped>\n",
              "    .dataframe tbody tr th:only-of-type {\n",
              "        vertical-align: middle;\n",
              "    }\n",
              "\n",
              "    .dataframe tbody tr th {\n",
              "        vertical-align: top;\n",
              "    }\n",
              "\n",
              "    .dataframe thead th {\n",
              "        text-align: right;\n",
              "    }\n",
              "</style>\n",
              "<table border=\"1\" class=\"dataframe\">\n",
              "  <thead>\n",
              "    <tr style=\"text-align: right;\">\n",
              "      <th></th>\n",
              "      <th>Name</th>\n",
              "      <th>House</th>\n",
              "      <th>Start</th>\n",
              "    </tr>\n",
              "  </thead>\n",
              "  <tbody>\n",
              "    <tr>\n",
              "      <th>0</th>\n",
              "      <td>Iron-Man</td>\n",
              "      <td>Marvel</td>\n",
              "      <td>NaT</td>\n",
              "    </tr>\n",
              "    <tr>\n",
              "      <th>1</th>\n",
              "      <td>Wonder-Woman</td>\n",
              "      <td>DC Comics</td>\n",
              "      <td>2017-05-15</td>\n",
              "    </tr>\n",
              "    <tr>\n",
              "      <th>2</th>\n",
              "      <td>Avengers</td>\n",
              "      <td>Marvel</td>\n",
              "      <td>NaT</td>\n",
              "    </tr>\n",
              "    <tr>\n",
              "      <th>3</th>\n",
              "      <td>Ramayan</td>\n",
              "      <td>Ramanand Sagar</td>\n",
              "      <td>1987-01-25</td>\n",
              "    </tr>\n",
              "  </tbody>\n",
              "</table>\n",
              "</div>"
            ],
            "text/plain": [
              "           Name           House      Start\n",
              "0      Iron-Man          Marvel        NaT\n",
              "1  Wonder-Woman       DC Comics 2017-05-15\n",
              "2      Avengers          Marvel        NaT\n",
              "3       Ramayan  Ramanand Sagar 1987-01-25"
            ]
          },
          "metadata": {
            "tags": []
          },
          "execution_count": 45
        }
      ]
    },
    {
      "cell_type": "code",
      "metadata": {
        "id": "2oMMFFvBKL9F"
      },
      "source": [
        "replaceValues = {'Start':10}  # Replace the values columnwise\n",
        "df1=df.fillna(replaceValues)\n"
      ],
      "execution_count": null,
      "outputs": []
    },
    {
      "cell_type": "code",
      "metadata": {
        "colab": {
          "base_uri": "https://localhost:8080/",
          "height": 173
        },
        "id": "62kbe5MLc85l",
        "outputId": "3516f812-cff7-42e2-cb64-d965b716e868"
      },
      "source": [
        "df1\n"
      ],
      "execution_count": null,
      "outputs": [
        {
          "output_type": "execute_result",
          "data": {
            "text/html": [
              "<div>\n",
              "<style scoped>\n",
              "    .dataframe tbody tr th:only-of-type {\n",
              "        vertical-align: middle;\n",
              "    }\n",
              "\n",
              "    .dataframe tbody tr th {\n",
              "        vertical-align: top;\n",
              "    }\n",
              "\n",
              "    .dataframe thead th {\n",
              "        text-align: right;\n",
              "    }\n",
              "</style>\n",
              "<table border=\"1\" class=\"dataframe\">\n",
              "  <thead>\n",
              "    <tr style=\"text-align: right;\">\n",
              "      <th></th>\n",
              "      <th>Name</th>\n",
              "      <th>House</th>\n",
              "      <th>Start</th>\n",
              "    </tr>\n",
              "  </thead>\n",
              "  <tbody>\n",
              "    <tr>\n",
              "      <th>0</th>\n",
              "      <td>Iron-Man</td>\n",
              "      <td>Marvel</td>\n",
              "      <td>10</td>\n",
              "    </tr>\n",
              "    <tr>\n",
              "      <th>1</th>\n",
              "      <td>Wonder-Woman</td>\n",
              "      <td>DC Comics</td>\n",
              "      <td>2017-05-15 00:00:00</td>\n",
              "    </tr>\n",
              "    <tr>\n",
              "      <th>2</th>\n",
              "      <td>Avengers</td>\n",
              "      <td>Marvel</td>\n",
              "      <td>10</td>\n",
              "    </tr>\n",
              "    <tr>\n",
              "      <th>3</th>\n",
              "      <td>Ramayan</td>\n",
              "      <td>Ramanand Sagar</td>\n",
              "      <td>1987-01-25 00:00:00</td>\n",
              "    </tr>\n",
              "  </tbody>\n",
              "</table>\n",
              "</div>"
            ],
            "text/plain": [
              "           Name           House                Start\n",
              "0      Iron-Man          Marvel                   10\n",
              "1  Wonder-Woman       DC Comics  2017-05-15 00:00:00\n",
              "2      Avengers          Marvel                   10\n",
              "3       Ramayan  Ramanand Sagar  1987-01-25 00:00:00"
            ]
          },
          "metadata": {
            "tags": []
          },
          "execution_count": 63
        }
      ]
    },
    {
      "cell_type": "markdown",
      "metadata": {
        "id": "V-C56qWhKL91"
      },
      "source": [
        "### 1.40 Saving dataframe to csv file"
      ]
    },
    {
      "cell_type": "code",
      "metadata": {
        "id": "6geXVSRiKL92"
      },
      "source": [
        "df1.to_csv(\"Test.csv\")   # datafram converted to csv file again\n",
        "\n",
        "# Open Test.csv"
      ],
      "execution_count": null,
      "outputs": []
    },
    {
      "cell_type": "markdown",
      "metadata": {
        "id": "zw8IhUTvb9lM"
      },
      "source": [
        "**Task:**\n",
        "- Program 1: Read a csv file and apply “Dropping columns” function.\n",
        "- Program 2: Read a csv file and select particular column while reading.\n",
        "- Program 3: Reading a particular part from the dataframe.\n",
        "- Program 4: Create a dataframe and draw a sample data to work.\n",
        "- Program 5: Read a csv file and check the missing values in the dataframe.\n",
        "- Program 6: Add missing values using loc and iloc.\n",
        "- Program 7: Read a csv file and fill the missing values in the dataframe.\n",
        "- Program 8: Read a csv file and drop the missing values in the dataframe.\n",
        "\n"
      ]
    }
  ]
}